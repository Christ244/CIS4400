{
 "cells": [
  {
   "cell_type": "markdown",
   "id": "797f03f7",
   "metadata": {},
   "source": [
    "<h1>Download One Specific File</h1>"
   ]
  },
  {
   "cell_type": "code",
   "execution_count": 6,
   "id": "eef4fb23",
   "metadata": {},
   "outputs": [],
   "source": [
    "import os\n",
    "import requests"
   ]
  },
  {
   "cell_type": "code",
   "execution_count": 7,
   "id": "bb2b6228",
   "metadata": {},
   "outputs": [],
   "source": [
    "# download xlsx file, ppp-data-dictionary\n",
    "\n",
    "dictionary_url = \"https://data.sba.gov/dataset/8aa276e2-6cab-4f86-aca4-a7dde42adf24/resource/aab8e9f9-36d1-42e1-b3ba-e59c79f1d7f0/download/ppp-data-dictionary.xlsx\"\n",
    "resp = requests.get(dictionary_url)\n",
    "with open('ppp-data-dictionary.xlsx', 'wb') as output:\n",
    "    output.write(resp.content)"
   ]
  },
  {
   "cell_type": "code",
   "execution_count": 8,
   "id": "d127e922",
   "metadata": {},
   "outputs": [],
   "source": [
    "# download one csv file, \n",
    "\n",
    "CSV_URL = 'https://data.sba.gov/dataset/8aa276e2-6cab-4f86-aca4-a7dde42adf24/resource/7371d1ca-57e8-4efb-9993-780cea937449/download/public_up_to_150k_12_230331.csv'\n",
    "with open(os.path.split(CSV_URL)[1], 'wb') as f, \\\n",
    "        requests.get(CSV_URL, stream=True) as r:\n",
    "    for line in r.iter_lines():\n",
    "        f.write(line+'\\n'.encode())\n"
   ]
  },
  {
   "cell_type": "code",
   "execution_count": null,
   "id": "e65ace31",
   "metadata": {},
   "outputs": [],
   "source": []
  },
  {
   "cell_type": "markdown",
   "id": "f282eedc",
   "metadata": {},
   "source": [
    "<h1>Download All the Files of PPP Loan</h1>"
   ]
  },
  {
   "cell_type": "code",
   "execution_count": 32,
   "id": "3cad637a",
   "metadata": {},
   "outputs": [],
   "source": [
    "from azure.storage.blob import BlobServiceClient, ContainerClient, BlobClient\n",
    "import os\n",
    "import requests\n",
    "from bs4 import BeautifulSoup\n",
    "import re\n",
    "import boto3\n",
    "import glob\n",
    "import pandas as pd"
   ]
  },
  {
   "cell_type": "code",
   "execution_count": 14,
   "id": "8623e43c",
   "metadata": {},
   "outputs": [
    {
     "name": "stdout",
     "output_type": "stream",
     "text": [
      "Downloaded public_150k_plus_230630.csv to data/ppploan\\public_150k_plus_230630.csv.\n",
      "All CSV files have been downloaded.\n"
     ]
    }
   ],
   "source": [
    "\n",
    "url = \"https://data.sba.gov/dataset/ppp-foia\"\n",
    "# Download the webpage content\n",
    "response = requests.get(url)\n",
    "page_content = response.text\n",
    "print(f\"Downloaded {csv_filename} to {destination_file}.\")\n",
    "print(\"All CSV files have been downloaded.\")"
   ]
  },
  {
   "cell_type": "code",
   "execution_count": 37,
   "id": "f1df85e8",
   "metadata": {},
   "outputs": [],
   "source": [
    "# Parse the HTML content with BeautifulSoup\n",
    "soup = BeautifulSoup(page_content, \"html.parser\")\n",
    "# Find all anchor tags containing CSV file links\n",
    "csv_links = soup.find_all(\"a\", href=re.compile(\".*\\.csv\"))\n",
    "# Define the destination folder for the downloaded CSV files\n",
    "destination_folder = \"./data/ppploan\""
   ]
  },
  {
   "cell_type": "code",
   "execution_count": 40,
   "id": "233cff8c",
   "metadata": {},
   "outputs": [
    {
     "name": "stdout",
     "output_type": "stream",
     "text": [
      "Downloading https://data.sba.gov/dataset/8aa276e2-6cab-4f86-aca4-a7dde42adf24/resource/4b3c3e7a-1286-4883-b857-d37058f9693c/download/public_150k_plus_230630.csv...\n",
      "Downloading https://data.sba.gov/dataset/8aa276e2-6cab-4f86-aca4-a7dde42adf24/resource/c95195f6-0af6-4b84-8c65-e7cd6b940cc2/download/public_up_to_150k_1_230630.csv...\n",
      "Downloading https://data.sba.gov/dataset/8aa276e2-6cab-4f86-aca4-a7dde42adf24/resource/f7b72681-f697-48f4-9931-71c0f3422ec4/download/public_up_to_150k_2_230630.csv...\n",
      "Downloading https://data.sba.gov/dataset/8aa276e2-6cab-4f86-aca4-a7dde42adf24/resource/eaa51a51-ef19-4c22-affe-61ede7253c6f/download/public_up_to_150k_3_230630.csv...\n",
      "Downloading https://data.sba.gov/dataset/8aa276e2-6cab-4f86-aca4-a7dde42adf24/resource/b4ec101e-ad78-4a25-a058-ab03b049766b/download/public_up_to_150k_4_230630.csv...\n",
      "Downloading https://data.sba.gov/dataset/8aa276e2-6cab-4f86-aca4-a7dde42adf24/resource/ea284b67-d0b7-4e65-bc48-663e9bb6dac1/download/public_up_to_150k_5_230630.csv...\n",
      "Downloading https://data.sba.gov/dataset/8aa276e2-6cab-4f86-aca4-a7dde42adf24/resource/ef56afe8-08f8-4bfa-8a58-29690f5baae0/download/public_up_to_150k_6_230630.csv...\n",
      "Downloading https://data.sba.gov/dataset/8aa276e2-6cab-4f86-aca4-a7dde42adf24/resource/81f1e2be-28a2-4854-bfe1-1e0d408f9fd0/download/public_up_to_150k_7_230630.csv...\n",
      "Downloading https://data.sba.gov/dataset/8aa276e2-6cab-4f86-aca4-a7dde42adf24/resource/6ada73a2-8176-4e71-8689-30490d9f8a2f/download/public_up_to_150k_8_230630.csv...\n",
      "Downloading https://data.sba.gov/dataset/8aa276e2-6cab-4f86-aca4-a7dde42adf24/resource/985f0c28-e799-4940-94a9-96a7c5c604a6/download/public_up_to_150k_9_230630.csv...\n",
      "Downloading https://data.sba.gov/dataset/8aa276e2-6cab-4f86-aca4-a7dde42adf24/resource/3487edaa-92b3-47f4-b147-06fd6d79f786/download/public_up_to_150k_10_230630.csv...\n",
      "Downloading https://data.sba.gov/dataset/8aa276e2-6cab-4f86-aca4-a7dde42adf24/resource/fdbaf355-ebfc-4ed3-a85c-f8b912232cca/download/public_up_to_150k_11_230630.csv...\n",
      "Downloading https://data.sba.gov/dataset/8aa276e2-6cab-4f86-aca4-a7dde42adf24/resource/d548c61b-f189-4673-8bbb-553fbc9a7cf9/download/public_up_to_150k_12_230630.csv...\n"
     ]
    }
   ],
   "source": [
    "# Download each CSV file to the specified destination folder\n",
    "for link in csv_links:\n",
    "    csv_url = link[\"href\"]\n",
    "    csv_filename = os.path.basename(csv_url)\n",
    "    destination_file = os.path.join(destination_folder, csv_filename)\n",
    "    print(f\"Downloading {csv_url}...\")\n",
    "    # Download the CSV file\n",
    "    with requests.get(csv_url, stream=True) as r:\n",
    "        r.raise_for_status()\n",
    "        with open(destination_file, \"wb\") as f:\n",
    "            for chunk in r.iter_content(chunk_size=8192):\n",
    "                f.write(chunk)"
   ]
  },
  {
   "cell_type": "code",
   "execution_count": null,
   "id": "d229325c",
   "metadata": {},
   "outputs": [],
   "source": []
  },
  {
   "cell_type": "code",
   "execution_count": null,
   "id": "be6854c2",
   "metadata": {},
   "outputs": [],
   "source": []
  },
  {
   "cell_type": "markdown",
   "id": "2c141cd6",
   "metadata": {},
   "source": [
    "<h1> Upload All the PPP Loan Files to Azure</h1>"
   ]
  },
  {
   "cell_type": "code",
   "execution_count": 52,
   "id": "10d92235",
   "metadata": {},
   "outputs": [],
   "source": [
    "folders = [\"data/ppploan\"]\n",
    "\n",
    "# Azure Blob Storage Configuration\n",
    "your_azure_connection_string = 'DefaultEndpointsProtocol=https;AccountName=sapppcis4400dev;AccountKey=87qq/ubn/GtI/KxMzWUfxVvEu5hnWhOSa9FSBmYq02i1HVKDOKD13Yc28Vh512tBDqR2GsThKf7c+AStZw5HOg==;EndpointSuffix=core.windows.net'\n",
    "azure_connection_string = your_azure_connection_string\n",
    "your_azure_container_name = 'sapppcis4400dev'\n",
    "azure_container_name = your_azure_container_name\n"
   ]
  },
  {
   "cell_type": "code",
   "execution_count": 46,
   "id": "13138a11",
   "metadata": {},
   "outputs": [],
   "source": [
    "# Upload files to Azure Blob Storage\n",
    "\n",
    "def upload_to_azure(source_file, destination_path):\n",
    "    blob_service_client = BlobServiceClient.from_connection_string(azure_connection_string)\n",
    "    container_client = blob_service_client.get_container_client(azure_container_name)\n",
    "    blob_client = container_client.get_blob_client(destination_path)\n",
    "    with open(source_file, \"rb\") as data:\n",
    "        blob_client.upload_blob(data)\n"
   ]
  },
  {
   "cell_type": "code",
   "execution_count": 53,
   "id": "e98c9e1a",
   "metadata": {},
   "outputs": [
    {
     "ename": "ResourceNotFoundError",
     "evalue": "The specified container does not exist.\nRequestId:9363ad50-001e-0049-509c-afa215000000\nTime:2023-07-05T23:58:32.1809687Z\nErrorCode:ContainerNotFound\nContent: <?xml version=\"1.0\" encoding=\"utf-8\"?><Error><Code>ContainerNotFound</Code><Message>The specified container does not exist.\nRequestId:9363ad50-001e-0049-509c-afa215000000\nTime:2023-07-05T23:58:32.1809687Z</Message></Error>",
     "output_type": "error",
     "traceback": [
      "\u001b[1;31m---------------------------------------------------------------------------\u001b[0m",
      "\u001b[1;31mResourceNotFoundError\u001b[0m                     Traceback (most recent call last)",
      "Cell \u001b[1;32mIn[53], line 8\u001b[0m\n\u001b[0;32m      6\u001b[0m destination_path \u001b[38;5;241m=\u001b[39m os\u001b[38;5;241m.\u001b[39mpath\u001b[38;5;241m.\u001b[39mjoin(\u001b[38;5;124m\"\u001b[39m\u001b[38;5;124muploaded\u001b[39m\u001b[38;5;124m\"\u001b[39m, os\u001b[38;5;241m.\u001b[39mpath\u001b[38;5;241m.\u001b[39mbasename(csv_file))\n\u001b[0;32m      7\u001b[0m \u001b[38;5;66;03m# Upload to Azure Blob Storage\u001b[39;00m\n\u001b[1;32m----> 8\u001b[0m \u001b[43mupload_to_azure\u001b[49m\u001b[43m(\u001b[49m\u001b[43mcsv_file\u001b[49m\u001b[43m,\u001b[49m\u001b[43m \u001b[49m\u001b[43mdestination_path\u001b[49m\u001b[43m)\u001b[49m\n\u001b[0;32m      9\u001b[0m \u001b[38;5;28mprint\u001b[39m(\u001b[38;5;124mf\u001b[39m\u001b[38;5;124m\"\u001b[39m\u001b[38;5;124mUploaded \u001b[39m\u001b[38;5;132;01m{\u001b[39;00mcsv_file\u001b[38;5;132;01m}\u001b[39;00m\u001b[38;5;124m to S3, GCS, and Azure.\u001b[39m\u001b[38;5;124m\"\u001b[39m)\n",
      "Cell \u001b[1;32mIn[46], line 8\u001b[0m, in \u001b[0;36mupload_to_azure\u001b[1;34m(source_file, destination_path)\u001b[0m\n\u001b[0;32m      6\u001b[0m blob_client \u001b[38;5;241m=\u001b[39m container_client\u001b[38;5;241m.\u001b[39mget_blob_client(destination_path)\n\u001b[0;32m      7\u001b[0m \u001b[38;5;28;01mwith\u001b[39;00m \u001b[38;5;28mopen\u001b[39m(source_file, \u001b[38;5;124m\"\u001b[39m\u001b[38;5;124mrb\u001b[39m\u001b[38;5;124m\"\u001b[39m) \u001b[38;5;28;01mas\u001b[39;00m data:\n\u001b[1;32m----> 8\u001b[0m     \u001b[43mblob_client\u001b[49m\u001b[38;5;241;43m.\u001b[39;49m\u001b[43mupload_blob\u001b[49m\u001b[43m(\u001b[49m\u001b[43mdata\u001b[49m\u001b[43m)\u001b[49m\n",
      "File \u001b[1;32m~\\anaconda3\\lib\\site-packages\\azure\\core\\tracing\\decorator.py:76\u001b[0m, in \u001b[0;36mdistributed_trace.<locals>.decorator.<locals>.wrapper_use_tracer\u001b[1;34m(*args, **kwargs)\u001b[0m\n\u001b[0;32m     74\u001b[0m span_impl_type \u001b[38;5;241m=\u001b[39m settings\u001b[38;5;241m.\u001b[39mtracing_implementation()\n\u001b[0;32m     75\u001b[0m \u001b[38;5;28;01mif\u001b[39;00m span_impl_type \u001b[38;5;129;01mis\u001b[39;00m \u001b[38;5;28;01mNone\u001b[39;00m:\n\u001b[1;32m---> 76\u001b[0m     \u001b[38;5;28;01mreturn\u001b[39;00m func(\u001b[38;5;241m*\u001b[39margs, \u001b[38;5;241m*\u001b[39m\u001b[38;5;241m*\u001b[39mkwargs)\n\u001b[0;32m     78\u001b[0m \u001b[38;5;66;03m# Merge span is parameter is set, but only if no explicit parent are passed\u001b[39;00m\n\u001b[0;32m     79\u001b[0m \u001b[38;5;28;01mif\u001b[39;00m merge_span \u001b[38;5;129;01mand\u001b[39;00m \u001b[38;5;129;01mnot\u001b[39;00m passed_in_parent:\n",
      "File \u001b[1;32m~\\anaconda3\\lib\\site-packages\\azure\\storage\\blob\\_blob_client.py:746\u001b[0m, in \u001b[0;36mBlobClient.upload_blob\u001b[1;34m(self, data, blob_type, length, metadata, **kwargs)\u001b[0m\n\u001b[0;32m    739\u001b[0m options \u001b[38;5;241m=\u001b[39m \u001b[38;5;28mself\u001b[39m\u001b[38;5;241m.\u001b[39m_upload_blob_options(\n\u001b[0;32m    740\u001b[0m     data,\n\u001b[0;32m    741\u001b[0m     blob_type\u001b[38;5;241m=\u001b[39mblob_type,\n\u001b[0;32m    742\u001b[0m     length\u001b[38;5;241m=\u001b[39mlength,\n\u001b[0;32m    743\u001b[0m     metadata\u001b[38;5;241m=\u001b[39mmetadata,\n\u001b[0;32m    744\u001b[0m     \u001b[38;5;241m*\u001b[39m\u001b[38;5;241m*\u001b[39mkwargs)\n\u001b[0;32m    745\u001b[0m \u001b[38;5;28;01mif\u001b[39;00m blob_type \u001b[38;5;241m==\u001b[39m BlobType\u001b[38;5;241m.\u001b[39mBlockBlob:\n\u001b[1;32m--> 746\u001b[0m     \u001b[38;5;28;01mreturn\u001b[39;00m upload_block_blob(\u001b[38;5;241m*\u001b[39m\u001b[38;5;241m*\u001b[39moptions)\n\u001b[0;32m    747\u001b[0m \u001b[38;5;28;01mif\u001b[39;00m blob_type \u001b[38;5;241m==\u001b[39m BlobType\u001b[38;5;241m.\u001b[39mPageBlob:\n\u001b[0;32m    748\u001b[0m     \u001b[38;5;28;01mreturn\u001b[39;00m upload_page_blob(\u001b[38;5;241m*\u001b[39m\u001b[38;5;241m*\u001b[39moptions)\n",
      "File \u001b[1;32m~\\anaconda3\\lib\\site-packages\\azure\\storage\\blob\\_upload_helpers.py:196\u001b[0m, in \u001b[0;36mupload_block_blob\u001b[1;34m(client, data, stream, length, overwrite, headers, validate_content, max_concurrency, blob_settings, encryption_options, **kwargs)\u001b[0m\n\u001b[0;32m    194\u001b[0m \u001b[38;5;28;01mexcept\u001b[39;00m HttpResponseError \u001b[38;5;28;01mas\u001b[39;00m error:\n\u001b[0;32m    195\u001b[0m     \u001b[38;5;28;01mtry\u001b[39;00m:\n\u001b[1;32m--> 196\u001b[0m         \u001b[43mprocess_storage_error\u001b[49m\u001b[43m(\u001b[49m\u001b[43merror\u001b[49m\u001b[43m)\u001b[49m\n\u001b[0;32m    197\u001b[0m     \u001b[38;5;28;01mexcept\u001b[39;00m ResourceModifiedError \u001b[38;5;28;01mas\u001b[39;00m mod_error:\n\u001b[0;32m    198\u001b[0m         \u001b[38;5;28;01mif\u001b[39;00m \u001b[38;5;129;01mnot\u001b[39;00m overwrite:\n",
      "File \u001b[1;32m~\\anaconda3\\lib\\site-packages\\azure\\storage\\blob\\_shared\\response_handlers.py:189\u001b[0m, in \u001b[0;36mprocess_storage_error\u001b[1;34m(storage_error)\u001b[0m\n\u001b[0;32m    186\u001b[0m error\u001b[38;5;241m.\u001b[39margs \u001b[38;5;241m=\u001b[39m (error\u001b[38;5;241m.\u001b[39mmessage,)\n\u001b[0;32m    187\u001b[0m \u001b[38;5;28;01mtry\u001b[39;00m:\n\u001b[0;32m    188\u001b[0m     \u001b[38;5;66;03m# `from None` prevents us from double printing the exception (suppresses generated layer error context)\u001b[39;00m\n\u001b[1;32m--> 189\u001b[0m     \u001b[43mexec\u001b[49m\u001b[43m(\u001b[49m\u001b[38;5;124;43m\"\u001b[39;49m\u001b[38;5;124;43mraise error from None\u001b[39;49m\u001b[38;5;124;43m\"\u001b[39;49m\u001b[43m)\u001b[49m   \u001b[38;5;66;03m# pylint: disable=exec-used # nosec\u001b[39;00m\n\u001b[0;32m    190\u001b[0m \u001b[38;5;28;01mexcept\u001b[39;00m \u001b[38;5;167;01mSyntaxError\u001b[39;00m:\n\u001b[0;32m    191\u001b[0m     \u001b[38;5;28;01mraise\u001b[39;00m error\n",
      "File \u001b[1;32m<string>:1\u001b[0m\n",
      "File \u001b[1;32m~\\anaconda3\\lib\\site-packages\\azure\\storage\\blob\\_upload_helpers.py:106\u001b[0m, in \u001b[0;36mupload_block_blob\u001b[1;34m(client, data, stream, length, overwrite, headers, validate_content, max_concurrency, blob_settings, encryption_options, **kwargs)\u001b[0m\n\u001b[0;32m    103\u001b[0m     encryption_data, data \u001b[38;5;241m=\u001b[39m encrypt_blob(data, encryption_options[\u001b[38;5;124m'\u001b[39m\u001b[38;5;124mkey\u001b[39m\u001b[38;5;124m'\u001b[39m], encryption_options[\u001b[38;5;124m'\u001b[39m\u001b[38;5;124mversion\u001b[39m\u001b[38;5;124m'\u001b[39m])\n\u001b[0;32m    104\u001b[0m     headers[\u001b[38;5;124m'\u001b[39m\u001b[38;5;124mx-ms-meta-encryptiondata\u001b[39m\u001b[38;5;124m'\u001b[39m] \u001b[38;5;241m=\u001b[39m encryption_data\n\u001b[1;32m--> 106\u001b[0m response \u001b[38;5;241m=\u001b[39m client\u001b[38;5;241m.\u001b[39mupload(\n\u001b[0;32m    107\u001b[0m     body\u001b[38;5;241m=\u001b[39mdata,\n\u001b[0;32m    108\u001b[0m     content_length\u001b[38;5;241m=\u001b[39madjusted_count,\n\u001b[0;32m    109\u001b[0m     blob_http_headers\u001b[38;5;241m=\u001b[39mblob_headers,\n\u001b[0;32m    110\u001b[0m     headers\u001b[38;5;241m=\u001b[39mheaders,\n\u001b[0;32m    111\u001b[0m     \u001b[38;5;28mcls\u001b[39m\u001b[38;5;241m=\u001b[39mreturn_response_headers,\n\u001b[0;32m    112\u001b[0m     validate_content\u001b[38;5;241m=\u001b[39mvalidate_content,\n\u001b[0;32m    113\u001b[0m     data_stream_total\u001b[38;5;241m=\u001b[39madjusted_count,\n\u001b[0;32m    114\u001b[0m     upload_stream_current\u001b[38;5;241m=\u001b[39m\u001b[38;5;241m0\u001b[39m,\n\u001b[0;32m    115\u001b[0m     tier\u001b[38;5;241m=\u001b[39mtier\u001b[38;5;241m.\u001b[39mvalue \u001b[38;5;28;01mif\u001b[39;00m tier \u001b[38;5;28;01melse\u001b[39;00m \u001b[38;5;28;01mNone\u001b[39;00m,\n\u001b[0;32m    116\u001b[0m     blob_tags_string\u001b[38;5;241m=\u001b[39mblob_tags_string,\n\u001b[0;32m    117\u001b[0m     immutability_policy_expiry\u001b[38;5;241m=\u001b[39mimmutability_policy_expiry,\n\u001b[0;32m    118\u001b[0m     immutability_policy_mode\u001b[38;5;241m=\u001b[39mimmutability_policy_mode,\n\u001b[0;32m    119\u001b[0m     legal_hold\u001b[38;5;241m=\u001b[39mlegal_hold,\n\u001b[0;32m    120\u001b[0m     \u001b[38;5;241m*\u001b[39m\u001b[38;5;241m*\u001b[39mkwargs)\n\u001b[0;32m    122\u001b[0m \u001b[38;5;28;01mif\u001b[39;00m progress_hook:\n\u001b[0;32m    123\u001b[0m     progress_hook(adjusted_count, adjusted_count)\n",
      "File \u001b[1;32m~\\anaconda3\\lib\\site-packages\\azure\\core\\tracing\\decorator.py:76\u001b[0m, in \u001b[0;36mdistributed_trace.<locals>.decorator.<locals>.wrapper_use_tracer\u001b[1;34m(*args, **kwargs)\u001b[0m\n\u001b[0;32m     74\u001b[0m span_impl_type \u001b[38;5;241m=\u001b[39m settings\u001b[38;5;241m.\u001b[39mtracing_implementation()\n\u001b[0;32m     75\u001b[0m \u001b[38;5;28;01mif\u001b[39;00m span_impl_type \u001b[38;5;129;01mis\u001b[39;00m \u001b[38;5;28;01mNone\u001b[39;00m:\n\u001b[1;32m---> 76\u001b[0m     \u001b[38;5;28;01mreturn\u001b[39;00m func(\u001b[38;5;241m*\u001b[39margs, \u001b[38;5;241m*\u001b[39m\u001b[38;5;241m*\u001b[39mkwargs)\n\u001b[0;32m     78\u001b[0m \u001b[38;5;66;03m# Merge span is parameter is set, but only if no explicit parent are passed\u001b[39;00m\n\u001b[0;32m     79\u001b[0m \u001b[38;5;28;01mif\u001b[39;00m merge_span \u001b[38;5;129;01mand\u001b[39;00m \u001b[38;5;129;01mnot\u001b[39;00m passed_in_parent:\n",
      "File \u001b[1;32m~\\anaconda3\\lib\\site-packages\\azure\\storage\\blob\\_generated\\operations\\_block_blob_operations.py:852\u001b[0m, in \u001b[0;36mBlockBlobOperations.upload\u001b[1;34m(self, content_length, body, timeout, transactional_content_md5, metadata, tier, request_id_parameter, blob_tags_string, immutability_policy_expiry, immutability_policy_mode, legal_hold, transactional_content_crc64, blob_http_headers, lease_access_conditions, cpk_info, cpk_scope_info, modified_access_conditions, **kwargs)\u001b[0m\n\u001b[0;32m    849\u001b[0m response \u001b[38;5;241m=\u001b[39m pipeline_response\u001b[38;5;241m.\u001b[39mhttp_response\n\u001b[0;32m    851\u001b[0m \u001b[38;5;28;01mif\u001b[39;00m response\u001b[38;5;241m.\u001b[39mstatus_code \u001b[38;5;129;01mnot\u001b[39;00m \u001b[38;5;129;01min\u001b[39;00m [\u001b[38;5;241m201\u001b[39m]:\n\u001b[1;32m--> 852\u001b[0m     \u001b[43mmap_error\u001b[49m\u001b[43m(\u001b[49m\u001b[43mstatus_code\u001b[49m\u001b[38;5;241;43m=\u001b[39;49m\u001b[43mresponse\u001b[49m\u001b[38;5;241;43m.\u001b[39;49m\u001b[43mstatus_code\u001b[49m\u001b[43m,\u001b[49m\u001b[43m \u001b[49m\u001b[43mresponse\u001b[49m\u001b[38;5;241;43m=\u001b[39;49m\u001b[43mresponse\u001b[49m\u001b[43m,\u001b[49m\u001b[43m \u001b[49m\u001b[43merror_map\u001b[49m\u001b[38;5;241;43m=\u001b[39;49m\u001b[43merror_map\u001b[49m\u001b[43m)\u001b[49m\n\u001b[0;32m    853\u001b[0m     error \u001b[38;5;241m=\u001b[39m \u001b[38;5;28mself\u001b[39m\u001b[38;5;241m.\u001b[39m_deserialize\u001b[38;5;241m.\u001b[39mfailsafe_deserialize(_models\u001b[38;5;241m.\u001b[39mStorageError, pipeline_response)\n\u001b[0;32m    854\u001b[0m     \u001b[38;5;28;01mraise\u001b[39;00m HttpResponseError(response\u001b[38;5;241m=\u001b[39mresponse, model\u001b[38;5;241m=\u001b[39merror)\n",
      "File \u001b[1;32m~\\anaconda3\\lib\\site-packages\\azure\\core\\exceptions.py:109\u001b[0m, in \u001b[0;36mmap_error\u001b[1;34m(status_code, response, error_map)\u001b[0m\n\u001b[0;32m    107\u001b[0m     \u001b[38;5;28;01mreturn\u001b[39;00m\n\u001b[0;32m    108\u001b[0m error \u001b[38;5;241m=\u001b[39m error_type(response\u001b[38;5;241m=\u001b[39mresponse)\n\u001b[1;32m--> 109\u001b[0m \u001b[38;5;28;01mraise\u001b[39;00m error\n",
      "\u001b[1;31mResourceNotFoundError\u001b[0m: The specified container does not exist.\nRequestId:9363ad50-001e-0049-509c-afa215000000\nTime:2023-07-05T23:58:32.1809687Z\nErrorCode:ContainerNotFound\nContent: <?xml version=\"1.0\" encoding=\"utf-8\"?><Error><Code>ContainerNotFound</Code><Message>The specified container does not exist.\nRequestId:9363ad50-001e-0049-509c-afa215000000\nTime:2023-07-05T23:58:32.1809687Z</Message></Error>"
     ]
    }
   ],
   "source": [
    "# Iterate through each folder, and upload the CSV files to S3, GCS, and Azure\n",
    "\n",
    "for folder in folders:\n",
    "    csv_files = glob.glob(os.path.join(folder, \"*.csv\"))\n",
    "    for csv_file in csv_files:\n",
    "        destination_path = os.path.join(\"uploaded\", os.path.basename(csv_file))\n",
    "        # Upload to Azure Blob Storage\n",
    "        upload_to_azure(csv_file, destination_path)\n",
    "        print(f\"Uploaded {csv_file} to S3, GCS, and Azure.\")"
   ]
  },
  {
   "cell_type": "code",
   "execution_count": null,
   "id": "4b060e6e",
   "metadata": {},
   "outputs": [],
   "source": []
  },
  {
   "cell_type": "code",
   "execution_count": null,
   "id": "1a870440",
   "metadata": {},
   "outputs": [],
   "source": []
  },
  {
   "cell_type": "code",
   "execution_count": null,
   "id": "ebf8d29a",
   "metadata": {},
   "outputs": [],
   "source": []
  },
  {
   "cell_type": "code",
   "execution_count": null,
   "id": "f1fdf63e",
   "metadata": {},
   "outputs": [],
   "source": []
  }
 ],
 "metadata": {
  "kernelspec": {
   "display_name": "Python 3 (ipykernel)",
   "language": "python",
   "name": "python3"
  },
  "language_info": {
   "codemirror_mode": {
    "name": "ipython",
    "version": 3
   },
   "file_extension": ".py",
   "mimetype": "text/x-python",
   "name": "python",
   "nbconvert_exporter": "python",
   "pygments_lexer": "ipython3",
   "version": "3.10.9"
  }
 },
 "nbformat": 4,
 "nbformat_minor": 5
}
