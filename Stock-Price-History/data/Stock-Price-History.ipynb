{
 "cells": [
  {
   "cell_type": "code",
   "execution_count": 4,
   "id": "4d2141f7",
   "metadata": {},
   "outputs": [],
   "source": [
    "import requests\n",
    "import yfinance as yf\n",
    "\n",
    "import matplotlib.pyplot as plt\n",
    "import pandas as pd"
   ]
  },
  {
   "cell_type": "code",
   "execution_count": null,
   "id": "8c2c17a6",
   "metadata": {},
   "outputs": [],
   "source": []
  },
  {
   "cell_type": "code",
   "execution_count": 7,
   "id": "20a18905",
   "metadata": {},
   "outputs": [],
   "source": [
    "# get company stock ticker\n",
    "\n",
    "def getTicker(company_name):\n",
    "    yfinance = \"https://query2.finance.yahoo.com/v1/finance/search\"\n",
    "    user_agent = 'Mozilla/5.0 (Windows NT 10.0; Win64; x64) AppleWebKit/537.36 (KHTML, like Gecko) Chrome/108.0.0.0 Safari/537.36'\n",
    "    params = {\"q\": company_name, \"quotes_count\": 1, \"country\": \"United States\"}\n",
    "\n",
    "    res = requests.get(url=yfinance, params=params, headers={'User-Agent': user_agent})\n",
    "    data = res.json()\n",
    "\n",
    "    company_code = data['quotes'][0]['symbol']\n",
    "    return company_code"
   ]
  },
  {
   "cell_type": "code",
   "execution_count": 8,
   "id": "4d41b161",
   "metadata": {},
   "outputs": [],
   "source": [
    "company_names = [\"JPMorgan Chase & Co.\", \n",
    "                 \"Bank of America Corporation\", \n",
    "                 \"Citigroup Inc.\",\n",
    "                 \"Wells Fargo & Company\",\n",
    "                 \"The Toronto-Dominion Bank\",\n",
    "                 \"UBS Group AG\",\n",
    "                 \"Credit Suisse\",\n",
    "                 \"BMO\",\n",
    "                 \"NatWest Group plc\",\n",
    "                 \"U.S. Bancorp\",\n",
    "                 \"Truist Financial Corporation\",\n",
    "                 \"The PNC Financial Services Group, Inc.\",\n",
    "                 \"SVB\",\n",
    "                 \"Signature Bank\",\n",
    "                 \"First Republic Bank\",\n",
    "                 \"M&T Bank Corporation\",\n",
    "                 \"HDFC Bank Limited\",\n",
    "                 \"Citizens Financial Group, Inc.\",\n",
    "                 \"New York Community Bancorp\",\n",
    "                 \"PacWest Bancorp\"]"
   ]
  },
  {
   "cell_type": "code",
   "execution_count": 9,
   "id": "d6bb9755",
   "metadata": {},
   "outputs": [],
   "source": [
    "Symbol = [getTicker(name) for name in company_names]\n",
    "company_name_symbol = pd.DataFrame({\"Company_name\": company_names,\n",
    "                                     \"Symbol\":Symbol})"
   ]
  },
  {
   "cell_type": "code",
   "execution_count": null,
   "id": "d0a4c9d2",
   "metadata": {},
   "outputs": [],
   "source": [
    "# company_name_symbol.to_csv(\"company_name_symbol.csv\", sep='\\t', encoding='utf-8')"
   ]
  },
  {
   "cell_type": "code",
   "execution_count": null,
   "id": "90802ac9",
   "metadata": {},
   "outputs": [],
   "source": []
  },
  {
   "cell_type": "code",
   "execution_count": null,
   "id": "f3ae480c",
   "metadata": {},
   "outputs": [],
   "source": []
  },
  {
   "cell_type": "code",
   "execution_count": null,
   "id": "b70c0159",
   "metadata": {},
   "outputs": [],
   "source": [
    "userInput = \"AAPL\"\n",
    "# Get the data for the stock AAPL\n",
    "data = yf.download(userInput,'2019-09-01','2020-12-31')\n"
   ]
  },
  {
   "cell_type": "code",
   "execution_count": null,
   "id": "2efc5a9d",
   "metadata": {},
   "outputs": [],
   "source": [
    "\n",
    "# Plot the close price of the stock\n",
    "fig = plt.figure(figsize=(12, 10))\n",
    "ax = plt.axes()\n",
    "ax.plot(data['Adj Close'])\n",
    "ax.set(\n",
    "       xlabel='Date', ylabel='Stock Price of Adjusted Close ',\n",
    "       title='Stock Price History of  ' + userInput);"
   ]
  },
  {
   "cell_type": "code",
   "execution_count": null,
   "id": "2c31fbd0",
   "metadata": {},
   "outputs": [],
   "source": [
    "data[\"Symbol\"] = userInput"
   ]
  },
  {
   "cell_type": "code",
   "execution_count": null,
   "id": "a2f20da7",
   "metadata": {},
   "outputs": [],
   "source": []
  }
 ],
 "metadata": {
  "kernelspec": {
   "display_name": "Python 3 (ipykernel)",
   "language": "python",
   "name": "python3"
  },
  "language_info": {
   "codemirror_mode": {
    "name": "ipython",
    "version": 3
   },
   "file_extension": ".py",
   "mimetype": "text/x-python",
   "name": "python",
   "nbconvert_exporter": "python",
   "pygments_lexer": "ipython3",
   "version": "3.8.12"
  }
 },
 "nbformat": 4,
 "nbformat_minor": 5
}
